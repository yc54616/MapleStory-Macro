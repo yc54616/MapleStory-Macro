{
 "cells": [
  {
   "cell_type": "code",
   "execution_count": 1,
   "metadata": {},
   "outputs": [],
   "source": [
    "#1 사용하기 버튼 클릭\n",
    "#2 확인 버튼 클릭\n",
    "#3 색을 인식해 레어, 에픽, 유니크, 레전더리인지 확인"
   ]
  },
  {
   "cell_type": "code",
   "execution_count": 180,
   "metadata": {},
   "outputs": [],
   "source": [
    "use_pos = (865,550)\n",
    "abll_pos = (865,350)\n",
    "abll_agb_rare = (0, 119, 170)\n",
    "abll_agb_epic = (68, 51, 136)\n",
    "abll_agb_unique = (187, 136, 0)\n",
    "#abll_agb_legendary = "
   ]
  },
  {
   "cell_type": "code",
   "execution_count": 14,
   "metadata": {},
   "outputs": [],
   "source": [
    "pag.click(use_pos)"
   ]
  },
  {
   "cell_type": "code",
   "execution_count": 100,
   "metadata": {
    "scrolled": true
   },
   "outputs": [],
   "source": [
    "pag.click(abll_pos)"
   ]
  },
  {
   "cell_type": "code",
   "execution_count": 179,
   "metadata": {},
   "outputs": [
    {
     "data": {
      "text/plain": [
       "(187, 136, 0)"
      ]
     },
     "execution_count": 179,
     "metadata": {},
     "output_type": "execute_result"
    }
   ],
   "source": [
    "from PIL import ImageGrab\n",
    "screen = ImageGrab.grab()\n",
    "screen.getpixel(abll_pos)"
   ]
  },
  {
   "cell_type": "code",
   "execution_count": 183,
   "metadata": {
    "scrolled": true
   },
   "outputs": [],
   "source": [
    "import pyautogui as pag\n",
    "import pyautogui\n",
    "import keyboard\n",
    "import tkinter\n",
    "\n",
    "window = tkinter.Tk()\n",
    "window.title(\"MapleStory Macro\")\n",
    "window.geometry('300x900')\n",
    "window.resizable(False, False)\n",
    "\n",
    "window.iconbitmap(\"MapleStory Macro.ico\")\n",
    "\n",
    "use_pos = (865,550)\n",
    "abll_pos = (865,350)\n",
    "abll_agb_rare = (0, 119, 170)\n",
    "abll_agb_epic = (68, 51, 136)\n",
    "abll_agb_unique = (187, 136, 0)\n",
    "\n",
    "frame = Frame(window)\n",
    "frame.pack()\n",
    "\n",
    "save_list = Listbox(frame, width=20, height=20, font=(\"Helvetica\",12))\n",
    "save_list.pack(side=\"left\", fill=\"y\")\n",
    "\n",
    "scrollbar = Scrollbar(frame, orient=\"vertical\")\n",
    "scrollbar.config(command=save_list.yview)\n",
    "scrollbar.pack(side=\"right\", fill=\"y\")\n",
    "\n",
    "save_list.config(yscrollcommand=scrollbar.set)\n",
    "\n",
    "def start():\n",
    "    save_list.delete(0,END)\n",
    "    a = 1\n",
    "    rare = 0\n",
    "    epic = 0\n",
    "    unique = 0\n",
    "    while True:\n",
    "        pag.click(use_pos)\n",
    "        screen = ImageGrab.grab()\n",
    "        rgb = screen.getpixel(abll_pos)\n",
    "        if rgb == abll_agb_rare:\n",
    "            save_list.insert(a, str(a)+\". 레어\")\n",
    "            rare = rare + 1\n",
    "        elif rgb == abll_agb_epic:\n",
    "            save_list.insert(a, str(a)+\". 에픽\")\n",
    "            epic = epic + 1\n",
    "        elif rgb == abll_agb_unique:\n",
    "            save_list.insert(a, str(a)+\". 유니크\")\n",
    "            unique = unique + 1\n",
    "        else:\n",
    "            save_list.insert(a, str(a)+\". 레전더리\")\n",
    "            break\n",
    "        a = a + 1\n",
    "        pyautogui.keyDown(\"enter\")\n",
    "        pyautogui.keyUp(\"enter\")\n",
    "        rgb = 0\n",
    "        \n",
    "    label.configure(text=\"버튼 누른 횟수 = \"+str(a-1))\n",
    "    rare_label.configure(text=\"rare 나온 횟수 = \"+str(rare))\n",
    "    epic_label.configure(text=\"epic 나온 횟수 = \"+str(epic))\n",
    "    unique_label.configure(text=\"unique 나온 횟수 = \"+str(unique))\n",
    "    \n",
    "        \n",
    "button = Button(window, text ='매크로',font=40, command=start)     \n",
    "button.place(relx=0.5, rely=0.9, anchor=\"center\")\n",
    "\n",
    "label=tkinter.Label(window, text=\"버튼 누른 횟수 = \", font=40)\n",
    "label.place(relx=0.5, rely=0.8, anchor=\"center\")\n",
    "\n",
    "rare_label=tkinter.Label(window, text=\"rare 나온 횟수 = \", font=40)\n",
    "rare_label.place(relx=0.5, rely=0.5, anchor=\"center\")\n",
    "\n",
    "epic_label=tkinter.Label(window, text=\"epic 나온 횟수 = \", font=40)\n",
    "epic_label.place(relx=0.5, rely=0.6, anchor=\"center\")\n",
    "\n",
    "unique_label=tkinter.Label(window, text=\"unique 나온 횟수 = \", font=40)\n",
    "unique_label.place(relx=0.5, rely=0.7, anchor=\"center\")\n",
    "\n",
    "window.mainloop()"
   ]
  },
  {
   "cell_type": "code",
   "execution_count": null,
   "metadata": {},
   "outputs": [],
   "source": []
  },
  {
   "cell_type": "code",
   "execution_count": null,
   "metadata": {},
   "outputs": [],
   "source": []
  }
 ],
 "metadata": {
  "kernelspec": {
   "display_name": "Python 3",
   "language": "python",
   "name": "python3"
  },
  "language_info": {
   "codemirror_mode": {
    "name": "ipython",
    "version": 3
   },
   "file_extension": ".py",
   "mimetype": "text/x-python",
   "name": "python",
   "nbconvert_exporter": "python",
   "pygments_lexer": "ipython3",
   "version": "3.8.5"
  }
 },
 "nbformat": 4,
 "nbformat_minor": 4
}
